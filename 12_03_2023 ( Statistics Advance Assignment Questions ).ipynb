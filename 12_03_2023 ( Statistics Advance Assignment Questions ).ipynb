{
 "cells": [
  {
   "cell_type": "markdown",
   "id": "7a872a70",
   "metadata": {},
   "source": [
    "# PW SKILLS"
   ]
  },
  {
   "cell_type": "markdown",
   "id": "b7f5489d",
   "metadata": {},
   "source": [
    "## Assignment Questions "
   ]
  },
  {
   "cell_type": "markdown",
   "id": "56fa4df7",
   "metadata": {},
   "source": [
    "### Q1. Calculate the 95% confidence interval for a sample of data with a mean of 50 and a standard deviation of 5 using Python. Interpret the results.\n",
    "### Answer : "
   ]
  },
  {
   "cell_type": "code",
   "execution_count": 1,
   "id": "98c85189",
   "metadata": {},
   "outputs": [
    {
     "name": "stdout",
     "output_type": "stream",
     "text": [
      "95% Confidence Interval: (48.13, 51.87)\n"
     ]
    }
   ],
   "source": [
    "import scipy.stats as stats\n",
    "\n",
    "# Sample data\n",
    "mean = 50\n",
    "std_dev = 5\n",
    "sample_size = 30  # You would replace this with your actual sample size\n",
    "\n",
    "# Calculate the standard error\n",
    "standard_error = std_dev / (sample_size ** 0.5)\n",
    "\n",
    "# Set the confidence level\n",
    "confidence_level = 0.95\n",
    "\n",
    "# Calculate the margin of error\n",
    "margin_of_error = stats.t.ppf((1 + confidence_level) / 2, sample_size - 1) * standard_error\n",
    "\n",
    "# Calculate the confidence interval\n",
    "lower_bound = mean - margin_of_error\n",
    "upper_bound = mean + margin_of_error\n",
    "\n",
    "# Print the results\n",
    "print(f\"95% Confidence Interval: ({lower_bound:.2f}, {upper_bound:.2f})\")\n"
   ]
  },
  {
   "cell_type": "markdown",
   "id": "f4af05a2",
   "metadata": {},
   "source": [
    "This code uses a t-distribution to calculate the margin of error, assuming a normal distribution for the sample mean. The confidence interval is then calculated using the mean and margin of error.\n",
    "\n",
    "Interpretation:\n",
    "\n",
    "The 95% confidence interval for the population mean is from the lower_bound to the upper_bound.\n",
    "It means that if you were to take many samples and compute a 95% confidence interval for each, you would expect that the true population mean would fall within these intervals 95% of the time.\n",
    "Adjust the sample_size variable to reflect the actual size of your data set."
   ]
  },
  {
   "cell_type": "markdown",
   "id": "9d348365",
   "metadata": {},
   "source": [
    "### Q2. Conduct a chi-square goodness of fit test to determine if the distribution of colors of M&Ms in a bag matches the expected distribution of 20% blue, 20% orange, 20% green, 10% yellow, 10% red, and 20% brown. Use Python to perform the test with a significance level of 0.05.\n",
    "### Answer : Certainly! You can use the scipy.stats module in Python to conduct a chi-square goodness-of-fit test. Here's an example:"
   ]
  },
  {
   "cell_type": "code",
   "execution_count": 2,
   "id": "2159c42d",
   "metadata": {},
   "outputs": [
    {
     "name": "stdout",
     "output_type": "stream",
     "text": [
      "Chi-square statistic: 1.5569226095541884\n",
      "P-value: 0.9064089581495318\n",
      "Degrees of freedom: 5\n",
      "Expected frequencies:\n",
      "[[22.5 17.5 20.  10.  11.  19. ]\n",
      " [22.5 17.5 20.  10.  11.  19. ]]\n",
      "Fail to reject the null hypothesis: The distribution of colors in the M&Ms bag is as expected.\n"
     ]
    }
   ],
   "source": [
    "import numpy as np\n",
    "from scipy.stats import chi2_contingency\n",
    "\n",
    "# Observed frequencies of colors in the M&Ms bag\n",
    "observed_frequencies = np.array([25, 15, 20, 10, 12, 18])  # Replace these values with your actual data\n",
    "\n",
    "# Expected frequencies based on the given distribution\n",
    "expected_percentages = np.array([0.20, 0.20, 0.20, 0.10, 0.10, 0.20])\n",
    "total_count = observed_frequencies.sum()\n",
    "expected_frequencies = expected_percentages * total_count\n",
    "\n",
    "# Perform the chi-square goodness-of-fit test\n",
    "chi2_stat, p_value, dof, expected = chi2_contingency([observed_frequencies, expected_frequencies])\n",
    "\n",
    "# Print the results\n",
    "print(f\"Chi-square statistic: {chi2_stat}\")\n",
    "print(f\"P-value: {p_value}\")\n",
    "print(f\"Degrees of freedom: {dof}\")\n",
    "print(\"Expected frequencies:\")\n",
    "print(expected)\n",
    "\n",
    "# Check for significance\n",
    "alpha = 0.05\n",
    "if p_value < alpha:\n",
    "    print(\"Reject the null hypothesis: The distribution of colors in the M&Ms bag is not as expected.\")\n",
    "else:\n",
    "    print(\"Fail to reject the null hypothesis: The distribution of colors in the M&Ms bag is as expected.\")\n"
   ]
  },
  {
   "cell_type": "markdown",
   "id": "4269d943",
   "metadata": {},
   "source": [
    "Replace the observed_frequencies array with the actual counts of each color in your M&Ms bag. The chi-square goodness-of-fit test compares the observed and expected frequencies and provides a p-value. If the p-value is less than the chosen significance level (here, 0.05), you would reject the null hypothesis, indicating that the distribution does not match the expected distribution.\n",
    "\n",
    "Adjust the significance level (alpha) based on your specific requirements."
   ]
  },
  {
   "cell_type": "markdown",
   "id": "59511bfc",
   "metadata": {},
   "source": [
    "### Q3. Use Python to calculate the chi-square statistic and p-value for a contingency table with the following data:\n"
   ]
  },
  {
   "cell_type": "markdown",
   "id": "da10cbd7",
   "metadata": {},
   "source": [
    "    Group A Group B\n",
    "Outcome 1 20 15\n",
    "Outcome 2 10 25\n",
    "Outcome 3 15 20\n"
   ]
  },
  {
   "cell_type": "markdown",
   "id": "b4836c49",
   "metadata": {},
   "source": [
    "### Interpret the results of the test.\n",
    "### Answer : "
   ]
  },
  {
   "cell_type": "code",
   "execution_count": 3,
   "id": "b3a1c3ed",
   "metadata": {},
   "outputs": [
    {
     "name": "stdout",
     "output_type": "stream",
     "text": [
      "Chi-square statistic: 5.833333333333334\n",
      "P-value: 0.05411376622282158\n",
      "Degrees of freedom: 2\n",
      "Expected frequencies:\n",
      "[[15. 20.]\n",
      " [15. 20.]\n",
      " [15. 20.]]\n",
      "Fail to reject the null hypothesis: There is no significant association between Group and Outcome.\n"
     ]
    }
   ],
   "source": [
    "import numpy as np\n",
    "from scipy.stats import chi2_contingency\n",
    "\n",
    "# Contingency table data\n",
    "observed_data = np.array([[20, 15],\n",
    "                          [10, 25],\n",
    "                          [15, 20]])\n",
    "\n",
    "# Perform the chi-square test\n",
    "chi2_stat, p_value, dof, expected = chi2_contingency(observed_data)\n",
    "\n",
    "# Print the results\n",
    "print(f\"Chi-square statistic: {chi2_stat}\")\n",
    "print(f\"P-value: {p_value}\")\n",
    "print(f\"Degrees of freedom: {dof}\")\n",
    "print(\"Expected frequencies:\")\n",
    "print(expected)\n",
    "\n",
    "# Interpret the results\n",
    "alpha = 0.05\n",
    "if p_value < alpha:\n",
    "    print(\"Reject the null hypothesis: There is a significant association between Group and Outcome.\")\n",
    "else:\n",
    "    print(\"Fail to reject the null hypothesis: There is no significant association between Group and Outcome.\")\n"
   ]
  },
  {
   "cell_type": "markdown",
   "id": "78cb23dd",
   "metadata": {},
   "source": [
    "The chi2_contingency function takes a contingency table as input and returns the chi-square statistic, p-value, degrees of freedom, and expected frequencies. The null hypothesis for this test is that there is no association between the groups and outcomes.\n",
    "\n",
    "Interpretation:\n",
    "\n",
    "If the p-value is less than the chosen significance level (here, 0.05), you would reject the null hypothesis.\n",
    "In this case, if you reject the null hypothesis, it would suggest that there is a significant association between the groups (Group A and Group B) and the outcomes (Outcome 1, Outcome 2, Outcome 3).\n",
    "Adjust the significance level (alpha) based on your specific requirements."
   ]
  },
  {
   "cell_type": "markdown",
   "id": "b5128ee8",
   "metadata": {},
   "source": [
    "### Q4. A study of the prevalence of smoking in a population of 500 individuals found that 60 individuals smoked. Use Python to calculate the 95% confidence interval for the true proportion of individuals in the population who smoke.\n",
    "### Answer : "
   ]
  },
  {
   "cell_type": "code",
   "execution_count": 5,
   "id": "204be57d",
   "metadata": {},
   "outputs": [
    {
     "name": "stdout",
     "output_type": "stream",
     "text": [
      "95% Confidence Interval: (0.0915, 0.1485)\n"
     ]
    }
   ],
   "source": [
    "import statsmodels.api as sm\n",
    "import statsmodels.stats.proportion as proportion\n",
    "\n",
    "# Sample size\n",
    "n = 500\n",
    "\n",
    "# Number of individuals who smoke\n",
    "x = 60\n",
    "\n",
    "# Calculate the proportion\n",
    "p_hat = x / n\n",
    "\n",
    "# Calculate the standard error\n",
    "standard_error = (p_hat * (1 - p_hat) / n) ** 0.5\n",
    "\n",
    "# Set the confidence level\n",
    "confidence_level = 0.95\n",
    "\n",
    "# Calculate the margin of error\n",
    "margin_of_error = proportion.proportion_confint(x, n, alpha=1-confidence_level)\n",
    "\n",
    "# Print the results\n",
    "lower_bound, upper_bound = margin_of_error\n",
    "print(f\"95% Confidence Interval: ({lower_bound:.4f}, {upper_bound:.4f})\")\n"
   ]
  },
  {
   "cell_type": "markdown",
   "id": "faf70c7b",
   "metadata": {},
   "source": [
    "This code uses the proportion_confint function from statsmodels to calculate the confidence interval for a population proportion.\n",
    "\n",
    "Interpretation:\n",
    "\n",
    "The 95% confidence interval for the true proportion of individuals who smoke is from lower_bound to upper_bound.\n",
    "It means that if you were to take many samples and compute a 95% confidence interval for each, you would expect that the true population proportion would fall within these intervals 95% of the time.\n",
    "Adjust the sample size (n) and the number of individuals who smoke (x) based on your specific study.\n",
    "\n",
    "\n",
    "\n",
    "\n"
   ]
  },
  {
   "cell_type": "markdown",
   "id": "db4e87e6",
   "metadata": {},
   "source": [
    "### Q5. Calculate the 90% confidence interval for a sample of data with a mean of 75 and a standard deviation of 12 using Python. Interpret the results.\n",
    "### Answer : "
   ]
  },
  {
   "cell_type": "code",
   "execution_count": 6,
   "id": "32ec93ed",
   "metadata": {},
   "outputs": [
    {
     "name": "stdout",
     "output_type": "stream",
     "text": [
      "90% Confidence Interval: (71.28, 78.72)\n"
     ]
    }
   ],
   "source": [
    "import scipy.stats as stats\n",
    "\n",
    "# Sample data\n",
    "mean = 75\n",
    "std_dev = 12\n",
    "sample_size = 30  # You would replace this with your actual sample size\n",
    "\n",
    "# Calculate the standard error\n",
    "standard_error = std_dev / (sample_size ** 0.5)\n",
    "\n",
    "# Set the confidence level\n",
    "confidence_level = 0.90\n",
    "\n",
    "# Calculate the margin of error\n",
    "margin_of_error = stats.t.ppf((1 + confidence_level) / 2, sample_size - 1) * standard_error\n",
    "\n",
    "# Calculate the confidence interval\n",
    "lower_bound = mean - margin_of_error\n",
    "upper_bound = mean + margin_of_error\n",
    "\n",
    "# Print the results\n",
    "print(f\"90% Confidence Interval: ({lower_bound:.2f}, {upper_bound:.2f})\")\n"
   ]
  },
  {
   "cell_type": "markdown",
   "id": "15fbc4b5",
   "metadata": {},
   "source": [
    "Interpretation:\n",
    "\n",
    "The 90% confidence interval for the population mean is from lower_bound to upper_bound.\n",
    "It means that if you were to take many samples and compute a 90% confidence interval for each, you would expect that the true population mean would fall within these intervals 90% of the time.\n",
    "Adjust the sample_size variable to reflect the actual size of your data set."
   ]
  },
  {
   "cell_type": "markdown",
   "id": "577e85ca",
   "metadata": {},
   "source": [
    "### Q6. Use Python to plot the chi-square distribution with 10 degrees of freedom. Label the axes and shade the area corresponding to a chi-square statistic of 15.\n",
    "### Answer : "
   ]
  },
  {
   "cell_type": "code",
   "execution_count": 7,
   "id": "e87e61a3",
   "metadata": {},
   "outputs": [
    {
     "data": {
      "image/png": "[encoded data removed]",
      "text/plain": [
       "<Figure size 640x480 with 1 Axes>"
      ]
     },
     "metadata": {},
     "output_type": "display_data"
    }
   ],
   "source": [
    "import numpy as np\n",
    "import matplotlib.pyplot as plt\n",
    "import scipy.stats as stats\n",
    "\n",
    "# Degrees of freedom\n",
    "df = 10\n",
    "\n",
    "# Generate x values for the chi-square distribution\n",
    "x = np.linspace(0, 30, 1000)\n",
    "\n",
    "# Calculate the chi-square probability density function (PDF)\n",
    "y = stats.chi2.pdf(x, df)\n",
    "\n",
    "# Plot the chi-square distribution\n",
    "plt.plot(x, y, label=f'Chi-square Distribution (df={df})')\n",
    "\n",
    "# Shade the area corresponding to a chi-square statistic of 15\n",
    "x_shaded = np.linspace(0, 15, 1000)\n",
    "y_shaded = stats.chi2.pdf(x_shaded, df)\n",
    "plt.fill_between(x_shaded, y_shaded, color='lightcoral', alpha=0.5, label='Chi-square Statistic of 15')\n",
    "\n",
    "# Label the axes and add a legend\n",
    "plt.xlabel('Chi-square Statistic')\n",
    "plt.ylabel('Probability Density Function (PDF)')\n",
    "plt.title(f'Chi-square Distribution with {df} Degrees of Freedom')\n",
    "plt.legend()\n",
    "\n",
    "# Show the plot\n",
    "plt.show()\n"
   ]
  },
  {
   "cell_type": "markdown",
   "id": "15de1d19",
   "metadata": {},
   "source": [
    "### Q7. A random sample of 1000 people was asked if they preferred Coke or Pepsi. Of the sample, 520 preferred Coke. Calculate a 99% confidence interval for the true proportion of people in the population who prefer Coke.\n",
    "### Answer : Certainly! You can use the proportion_confint function from the statsmodels.stats.proportion module to calculate the confidence interval for the true proportion of people who prefer Coke. Here's an example:"
   ]
  },
  {
   "cell_type": "code",
   "execution_count": 8,
   "id": "b17302d0",
   "metadata": {},
   "outputs": [
    {
     "name": "stdout",
     "output_type": "stream",
     "text": [
      "99% Confidence Interval: (0.4793, 0.5607)\n"
     ]
    }
   ],
   "source": [
    "import statsmodels.stats.proportion as proportion\n",
    "\n",
    "# Sample size\n",
    "n = 1000\n",
    "\n",
    "# Number of people who prefer Coke\n",
    "x = 520\n",
    "\n",
    "# Calculate the proportion\n",
    "p_hat = x / n\n",
    "\n",
    "# Calculate the confidence interval\n",
    "confidence_interval = proportion.proportion_confint(x, n, alpha=0.01)  # 99% confidence level\n",
    "\n",
    "# Print the results\n",
    "lower_bound, upper_bound = confidence_interval\n",
    "print(f\"99% Confidence Interval: ({lower_bound:.4f}, {upper_bound:.4f})\")\n"
   ]
  },
  {
   "cell_type": "markdown",
   "id": "bc052b2c",
   "metadata": {},
   "source": [
    "This code uses the proportion_confint function to calculate the confidence interval for the true proportion of people who prefer Coke in the population.\n",
    "\n",
    "Interpretation:\n",
    "\n",
    "The 99% confidence interval for the true proportion of people who prefer Coke is from lower_bound to upper_bound.\n",
    "It means that if you were to take many samples and compute a 99% confidence interval for each, you would expect that the true population proportion would fall within these intervals 99% of the time.\n",
    "Adjust the sample size (n) and the number of people who prefer Coke (x) based on your specific study."
   ]
  },
  {
   "cell_type": "markdown",
   "id": "18e300e0",
   "metadata": {},
   "source": [
    "### Q8. A researcher hypothesizes that a coin is biased towards tails. They flip the coin 100 times and observe 45 tails. Conduct a chi-square goodness of fit test to determine if the observed frequencies match the expected frequencies of a fair coin. Use a significance level of 0.05.\n",
    "### Answer : Certainly! To conduct a chi-square goodness-of-fit test, you can use the scipy.stats module in Python. Here's an example:"
   ]
  },
  {
   "cell_type": "code",
   "execution_count": 10,
   "id": "c7389931",
   "metadata": {},
   "outputs": [
    {
     "name": "stdout",
     "output_type": "stream",
     "text": [
      "Chi-square statistic: 1.0\n",
      "P-value: 0.31731050786291415\n",
      "Fail to reject the null hypothesis: There is no evidence that the coin is biased towards tails.\n"
     ]
    }
   ],
   "source": [
    "import numpy as np\n",
    "from scipy.stats import chi2\n",
    "\n",
    "# Observed frequencies\n",
    "observed_tails = 45\n",
    "observed_heads = 100 - observed_tails\n",
    "observed_frequencies = np.array([observed_heads, observed_tails])\n",
    "\n",
    "# Expected frequencies for a fair coin\n",
    "expected_frequencies = np.array([50, 50])\n",
    "\n",
    "# Calculate the chi-square statistic and p-value\n",
    "chi2_stat = np.sum((observed_frequencies - expected_frequencies)**2 / expected_frequencies)\n",
    "p_value = 1 - chi2.cdf(chi2_stat, df=1)  # df=1 for a one-sample chi-square test\n",
    "\n",
    "# Print the results\n",
    "print(f\"Chi-square statistic: {chi2_stat}\")\n",
    "print(f\"P-value: {p_value}\")\n",
    "\n",
    "# Check for significance\n",
    "alpha = 0.05\n",
    "if p_value < alpha:\n",
    "    print(\"Reject the null hypothesis: The coin is biased towards tails.\")\n",
    "else:\n",
    "    print(\"Fail to reject the null hypothesis: There is no evidence that the coin is biased towards tails.\")\n"
   ]
  },
  {
   "cell_type": "markdown",
   "id": "8889dc42",
   "metadata": {},
   "source": [
    "### This code calculates the chi-square statistic and p-value directly without using chi2_contingency. The result should now correctly indicate whether to reject the null hypothesis based on the p-value and the chosen significance level (alpha)."
   ]
  },
  {
   "cell_type": "markdown",
   "id": "3dc914cf",
   "metadata": {},
   "source": [
    "### Q9. A study was conducted to determine if there is an association between smoking status (smoker or non-smoker) and lung cancer diagnosis (yes or no). The results are shown in the contingency table below. Conduct a chi-square test for independence to determine if there is a significant association between smoking status and lung cancer diagnosis."
   ]
  },
  {
   "cell_type": "markdown",
   "id": "35f8dbef",
   "metadata": {},
   "source": [
    "Lung Cancer: Yes\n",
    "Smoker 60 140\n",
    "Non-smoker 30 170\n",
    "Lung Cancer: No\n"
   ]
  },
  {
   "cell_type": "markdown",
   "id": "d4673fa5",
   "metadata": {},
   "source": [
    "### Use a significance level of 0.05.\n",
    "### Answer : To conduct a chi-square test for independence, you can use the scipy.stats module in Python. Here's an example:"
   ]
  },
  {
   "cell_type": "code",
   "execution_count": 11,
   "id": "8003fd89",
   "metadata": {},
   "outputs": [
    {
     "name": "stdout",
     "output_type": "stream",
     "text": [
      "Chi-square statistic: 12.057347670250895\n",
      "P-value: 0.0005158863863703744\n",
      "Degrees of freedom: 1\n",
      "Expected frequencies:\n",
      "[[ 45. 155.]\n",
      " [ 45. 155.]]\n",
      "Reject the null hypothesis: There is a significant association between smoking status and lung cancer diagnosis.\n"
     ]
    }
   ],
   "source": [
    "import numpy as np\n",
    "from scipy.stats import chi2_contingency\n",
    "\n",
    "# Contingency table data\n",
    "observed_data = np.array([[60, 140],\n",
    "                          [30, 170]])\n",
    "\n",
    "# Perform the chi-square test for independence\n",
    "chi2_stat, p_value, dof, expected = chi2_contingency(observed_data)\n",
    "\n",
    "# Print the results\n",
    "print(f\"Chi-square statistic: {chi2_stat}\")\n",
    "print(f\"P-value: {p_value}\")\n",
    "print(f\"Degrees of freedom: {dof}\")\n",
    "print(\"Expected frequencies:\")\n",
    "print(expected)\n",
    "\n",
    "# Check for significance\n",
    "alpha = 0.05\n",
    "if p_value < alpha:\n",
    "    print(\"Reject the null hypothesis: There is a significant association between smoking status and lung cancer diagnosis.\")\n",
    "else:\n",
    "    print(\"Fail to reject the null hypothesis: There is no significant association between smoking status and lung cancer diagnosis.\")\n"
   ]
  },
  {
   "cell_type": "markdown",
   "id": "822fc5cf",
   "metadata": {},
   "source": [
    "In this code:\n",
    "\n",
    "observed_data represents the observed frequencies in the contingency table.\n",
    "The chi-square test for independence is performed using chi2_contingency.\n",
    "The null hypothesis is that there is no association between smoking status and lung cancer diagnosis.\n",
    "The p-value is compared to the significance level (0.05) to make a decision.\n",
    "Adjust the contingency table based on your specific data, and the result will indicate whether to reject the null hypothesis or not.\n",
    "\n",
    "\n",
    "\n",
    "\n"
   ]
  },
  {
   "cell_type": "markdown",
   "id": "0073357a",
   "metadata": {},
   "source": [
    "### Q10. A study was conducted to determine if the proportion of people who prefer milk chocolate, dark chocolate, or white chocolate is different in the U.S. versus the U.K. A random sample of 500 people from the U.S. and a random sample of 500 people from the U.K. were surveyed. The results are shown in the contingency table below. Conduct a chi-square test for independence to determine if there is a significant association between chocolate preference and country of origin."
   ]
  },
  {
   "cell_type": "markdown",
   "id": "4d3da10a",
   "metadata": {},
   "source": [
    "Milk Chocolate\n",
    "U.S. (n=500) 200 150 150\n",
    "U.K. (n=500) 225 175 100\n",
    "Dark Chocolate White Chocolat"
   ]
  },
  {
   "cell_type": "markdown",
   "id": "8c951106",
   "metadata": {},
   "source": [
    "### Use a significance level of 0.01.\n",
    "### Answer : To conduct a chi-square test for independence for the given contingency table, you can use the scipy.stats module in Python. Here's an example:"
   ]
  },
  {
   "cell_type": "code",
   "execution_count": 12,
   "id": "0d8c3771",
   "metadata": {},
   "outputs": [
    {
     "name": "stdout",
     "output_type": "stream",
     "text": [
      "Chi-square statistic: 13.393665158371041\n",
      "P-value: 0.0012348168997745918\n",
      "Degrees of freedom: 2\n",
      "Expected frequencies:\n",
      "[[212.5 162.5 125. ]\n",
      " [212.5 162.5 125. ]]\n",
      "Reject the null hypothesis: There is a significant association between chocolate preference and country of origin.\n"
     ]
    }
   ],
   "source": [
    "import numpy as np\n",
    "from scipy.stats import chi2_contingency\n",
    "\n",
    "# Contingency table data\n",
    "observed_data = np.array([[200, 150, 150],\n",
    "                          [225, 175, 100]])\n",
    "\n",
    "# Perform the chi-square test for independence\n",
    "chi2_stat, p_value, dof, expected = chi2_contingency(observed_data)\n",
    "\n",
    "# Print the results\n",
    "print(f\"Chi-square statistic: {chi2_stat}\")\n",
    "print(f\"P-value: {p_value}\")\n",
    "print(f\"Degrees of freedom: {dof}\")\n",
    "print(\"Expected frequencies:\")\n",
    "print(expected)\n",
    "\n",
    "# Check for significance\n",
    "alpha = 0.01\n",
    "if p_value < alpha:\n",
    "    print(\"Reject the null hypothesis: There is a significant association between chocolate preference and country of origin.\")\n",
    "else:\n",
    "    print(\"Fail to reject the null hypothesis: There is no significant association between chocolate preference and country of origin.\")\n"
   ]
  },
  {
   "cell_type": "markdown",
   "id": "10d4b00b",
   "metadata": {},
   "source": [
    "### In this code:\n",
    "\n",
    "observed_data represents the observed frequencies in the contingency table.\n",
    "The chi-square test for independence is performed using chi2_contingency.\n",
    "The null hypothesis is that there is no association between chocolate preference and country of origin.\n",
    "The p-value is compared to the significance level (0.01) to make a decision.\n",
    "Adjust the contingency table based on your specific data, and the result will indicate whether to reject the null hypothesis or not."
   ]
  },
  {
   "cell_type": "markdown",
   "id": "f0212adb",
   "metadata": {},
   "source": [
    "### Q11. A random sample of 30 people was selected from a population with an unknown mean and standard deviation. The sample mean was found to be 72 and the sample standard deviation was found to be 10. Conduct a hypothesis test to determine if the population mean is significantly different from 70. Use a significance level of 0.05.\n",
    "### Answer : To conduct a hypothesis test for the population mean, you can use a t-test since the population standard deviation is unknown. Here's an example using Python and the scipy.stats module:"
   ]
  },
  {
   "cell_type": "code",
   "execution_count": 14,
   "id": "7e094569",
   "metadata": {},
   "outputs": [
    {
     "name": "stdout",
     "output_type": "stream",
     "text": [
      "T-statistic: inf\n",
      "P-value: 0.0\n",
      "Reject the null hypothesis: The population mean is significantly different from 70.\n"
     ]
    },
    {
     "name": "stderr",
     "output_type": "stream",
     "text": [
      "C:\\Users\\Kalyanam\\AppData\\Local\\Temp\\ipykernel_3944\\2185693432.py:12: RuntimeWarning: Precision loss occurred in moment calculation due to catastrophic cancellation. This occurs when the data are nearly identical. Results may be unreliable.\n",
      "  t_stat, p_value = ttest_1samp([sample_mean]*sample_size, hypothesized_mean)\n"
     ]
    }
   ],
   "source": [
    "from scipy.stats import ttest_1samp\n",
    "\n",
    "# Sample information\n",
    "sample_mean = 72\n",
    "sample_std_dev = 10\n",
    "sample_size = 30\n",
    "\n",
    "# Hypothesized population mean\n",
    "hypothesized_mean = 70\n",
    "\n",
    "# Calculate the t-statistic and p-value\n",
    "t_stat, p_value = ttest_1samp([sample_mean]*sample_size, hypothesized_mean)\n",
    "\n",
    "# Print the results\n",
    "print(f\"T-statistic: {t_stat}\")\n",
    "print(f\"P-value: {p_value}\")\n",
    "\n",
    "# Check for significance\n",
    "alpha = 0.05\n",
    "if p_value < alpha:\n",
    "    print(\"Reject the null hypothesis: The population mean is significantly different from 70.\")\n",
    "else:\n",
    "    print(\"Fail to reject the null hypothesis: There is no significant evidence that the population mean is different from 70.\")\n"
   ]
  },
  {
   "cell_type": "code",
   "execution_count": null,
   "id": "7e67fa64",
   "metadata": {},
   "outputs": [],
   "source": []
  }
 ],
 "metadata": {
  "kernelspec": {
   "display_name": "Python 3 (ipykernel)",
   "language": "python",
   "name": "python3"
  },
  "language_info": {
   "codemirror_mode": {
    "name": "ipython",
    "version": 3
   },
   "file_extension": ".py",
   "mimetype": "text/x-python",
   "name": "python",
   "nbconvert_exporter": "python",
   "pygments_lexer": "ipython3",
   "version": "3.9.13"
  }
 },
 "nbformat": 4,
 "nbformat_minor": 5
}
